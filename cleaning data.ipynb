{
 "cells": [
  {
   "cell_type": "markdown",
   "id": "d93139a8",
   "metadata": {},
   "source": [
    "# Reading and cleaning the data"
   ]
  },
  {
   "cell_type": "code",
   "execution_count": 1,
   "id": "abae285f",
   "metadata": {},
   "outputs": [],
   "source": [
    "import pandas as pd\n",
    "import numpy as np\n",
    "from datetime import datetime"
   ]
  },
  {
   "cell_type": "markdown",
   "id": "524dfaa5",
   "metadata": {},
   "source": [
    "### Importing the crime dataset:"
   ]
  },
  {
   "cell_type": "code",
   "execution_count": 2,
   "id": "f4e79145",
   "metadata": {},
   "outputs": [
    {
     "name": "stderr",
     "output_type": "stream",
     "text": [
      "C:\\Users\\Hisham\\anaconda3\\lib\\site-packages\\IPython\\core\\interactiveshell.py:3441: DtypeWarning: Columns (18,20) have mixed types.Specify dtype option on import or set low_memory=False.\n",
      "  exec(code_obj, self.user_global_ns, self.user_ns)\n"
     ]
    }
   ],
   "source": [
    "df = pd.read_csv('C:/Users/Hisham/Desktop/p3/data_wrangling/project/assignments_repository/NYPD_Complaint_Data_Historic.csv/NYPD_Complaint_Data_Historic.csv')"
   ]
  },
  {
   "cell_type": "markdown",
   "id": "17f58622",
   "metadata": {},
   "source": [
    "### Exploring the dataset:"
   ]
  },
  {
   "cell_type": "code",
   "execution_count": 3,
   "id": "f014e0db",
   "metadata": {},
   "outputs": [
    {
     "data": {
      "text/plain": [
       "Index(['CMPLNT_NUM', 'CMPLNT_FR_DT', 'CMPLNT_FR_TM', 'CMPLNT_TO_DT',\n",
       "       'CMPLNT_TO_TM', 'ADDR_PCT_CD', 'RPT_DT', 'KY_CD', 'OFNS_DESC', 'PD_CD',\n",
       "       'PD_DESC', 'CRM_ATPT_CPTD_CD', 'LAW_CAT_CD', 'BORO_NM',\n",
       "       'LOC_OF_OCCUR_DESC', 'PREM_TYP_DESC', 'JURIS_DESC', 'JURISDICTION_CODE',\n",
       "       'PARKS_NM', 'HADEVELOPT', 'HOUSING_PSA', 'X_COORD_CD', 'Y_COORD_CD',\n",
       "       'SUSP_AGE_GROUP', 'SUSP_RACE', 'SUSP_SEX', 'TRANSIT_DISTRICT',\n",
       "       'Latitude', 'Longitude', 'Lat_Lon', 'PATROL_BORO', 'STATION_NAME',\n",
       "       'VIC_AGE_GROUP', 'VIC_RACE', 'VIC_SEX'],\n",
       "      dtype='object')"
      ]
     },
     "execution_count": 3,
     "metadata": {},
     "output_type": "execute_result"
    }
   ],
   "source": [
    "df.columns"
   ]
  },
  {
   "cell_type": "markdown",
   "id": "8dbd0540",
   "metadata": {},
   "source": [
    "#### Getting needed columns:"
   ]
  },
  {
   "cell_type": "code",
   "execution_count": 4,
   "id": "6a2879ff",
   "metadata": {},
   "outputs": [],
   "source": [
    "df = df[['CMPLNT_FR_DT','CMPLNT_FR_TM','OFNS_DESC','PD_DESC','LAW_CAT_CD','Latitude','Longitude']]\n",
    "# BORO_NM: leave for later if weather couldnt be fetched in whole ny"
   ]
  },
  {
   "cell_type": "code",
   "execution_count": 5,
   "id": "0ebbf7ee",
   "metadata": {},
   "outputs": [],
   "source": [
    "df = df.rename(columns={'CMPLNT_FR_DT':'Date', 'CMPLNT_FR_TM':'Time', 'OFNS_DESC':'Global_desc',\n",
    "                        'PD_DESC':'Specific_desc', 'LAW_CAT_CD':'Type_of_felony'})"
   ]
  },
  {
   "cell_type": "markdown",
   "id": "6054967b",
   "metadata": {},
   "source": [
    "### handeling missing values:"
   ]
  },
  {
   "cell_type": "code",
   "execution_count": 6,
   "id": "88898791",
   "metadata": {
    "scrolled": true
   },
   "outputs": [
    {
     "data": {
      "text/plain": [
       "Date                655\n",
       "Time                 48\n",
       "Global_desc       18813\n",
       "Specific_desc      5546\n",
       "Type_of_felony        0\n",
       "Latitude          24064\n",
       "Longitude         24064\n",
       "dtype: int64"
      ]
     },
     "execution_count": 6,
     "metadata": {},
     "output_type": "execute_result"
    }
   ],
   "source": [
    "df.isnull().sum()\n"
   ]
  },
  {
   "cell_type": "code",
   "execution_count": 7,
   "id": "ed0b5b32",
   "metadata": {},
   "outputs": [],
   "source": [
    "df = df.dropna()"
   ]
  },
  {
   "cell_type": "markdown",
   "id": "4469bd64",
   "metadata": {},
   "source": [
    "### Selecting subset of the data:"
   ]
  },
  {
   "cell_type": "code",
   "execution_count": 8,
   "id": "aad3677a",
   "metadata": {},
   "outputs": [],
   "source": [
    "# we had 6.5 + mil instances. We take the last 5 years into account\n",
    "df = df[df.Date.apply(lambda x: int(x.split('/')[-1])) >= 2014]"
   ]
  },
  {
   "cell_type": "code",
   "execution_count": 9,
   "id": "91eefcd2",
   "metadata": {},
   "outputs": [],
   "source": [
    "df = df.sort_values(by = 'Date')"
   ]
  },
  {
   "cell_type": "markdown",
   "id": "ece2c7c7",
   "metadata": {},
   "source": [
    "### Converting date and time to timestamps:"
   ]
  },
  {
   "cell_type": "code",
   "execution_count": 10,
   "id": "13cd899c",
   "metadata": {},
   "outputs": [],
   "source": [
    "df['start'] = pd.to_datetime(df['Date'] + df['Time'], format='%m/%d/%Y%H:%M:%S', errors = 'coerce')"
   ]
  },
  {
   "cell_type": "code",
   "execution_count": 11,
   "id": "187db552",
   "metadata": {},
   "outputs": [],
   "source": [
    "df['start'] = df.start.apply(lambda x: datetime(x.year, x.month, x.day, x.hour).timestamp())"
   ]
  },
  {
   "cell_type": "code",
   "execution_count": 12,
   "id": "9b047b9d",
   "metadata": {},
   "outputs": [],
   "source": [
    "df['end'] = df.start.apply(lambda x: x+3600)"
   ]
  },
  {
   "cell_type": "code",
   "execution_count": 13,
   "id": "032f5439",
   "metadata": {},
   "outputs": [
    {
     "data": {
      "text/html": [
       "<div>\n",
       "<style scoped>\n",
       "    .dataframe tbody tr th:only-of-type {\n",
       "        vertical-align: middle;\n",
       "    }\n",
       "\n",
       "    .dataframe tbody tr th {\n",
       "        vertical-align: top;\n",
       "    }\n",
       "\n",
       "    .dataframe thead th {\n",
       "        text-align: right;\n",
       "    }\n",
       "</style>\n",
       "<table border=\"1\" class=\"dataframe\">\n",
       "  <thead>\n",
       "    <tr style=\"text-align: right;\">\n",
       "      <th></th>\n",
       "      <th>Date</th>\n",
       "      <th>Time</th>\n",
       "      <th>Global_desc</th>\n",
       "      <th>Specific_desc</th>\n",
       "      <th>Type_of_felony</th>\n",
       "      <th>Latitude</th>\n",
       "      <th>Longitude</th>\n",
       "      <th>start</th>\n",
       "      <th>end</th>\n",
       "    </tr>\n",
       "  </thead>\n",
       "  <tbody>\n",
       "    <tr>\n",
       "      <th>3231995</th>\n",
       "      <td>01/01/2014</td>\n",
       "      <td>11:15:00</td>\n",
       "      <td>FELONY ASSAULT</td>\n",
       "      <td>ASSAULT 2,1,UNCLASSIFIED</td>\n",
       "      <td>FELONY</td>\n",
       "      <td>40.663072</td>\n",
       "      <td>-73.925782</td>\n",
       "      <td>1.388570e+09</td>\n",
       "      <td>1.388574e+09</td>\n",
       "    </tr>\n",
       "    <tr>\n",
       "      <th>4307751</th>\n",
       "      <td>01/01/2014</td>\n",
       "      <td>02:05:00</td>\n",
       "      <td>OFFENSES AGAINST PUBLIC ADMINI</td>\n",
       "      <td>RESISTING ARREST</td>\n",
       "      <td>MISDEMEANOR</td>\n",
       "      <td>40.797056</td>\n",
       "      <td>-73.964477</td>\n",
       "      <td>1.388538e+09</td>\n",
       "      <td>1.388542e+09</td>\n",
       "    </tr>\n",
       "    <tr>\n",
       "      <th>3837590</th>\n",
       "      <td>01/01/2014</td>\n",
       "      <td>00:01:00</td>\n",
       "      <td>FRAUDS</td>\n",
       "      <td>FRAUD,UNCLASSIFIED-MISDEMEANOR</td>\n",
       "      <td>MISDEMEANOR</td>\n",
       "      <td>40.649203</td>\n",
       "      <td>-73.923304</td>\n",
       "      <td>1.388531e+09</td>\n",
       "      <td>1.388534e+09</td>\n",
       "    </tr>\n",
       "    <tr>\n",
       "      <th>4069689</th>\n",
       "      <td>01/01/2014</td>\n",
       "      <td>15:00:00</td>\n",
       "      <td>PETIT LARCENY</td>\n",
       "      <td>LARCENY,PETIT FROM BUILDING,UN</td>\n",
       "      <td>MISDEMEANOR</td>\n",
       "      <td>40.635898</td>\n",
       "      <td>-73.740132</td>\n",
       "      <td>1.388585e+09</td>\n",
       "      <td>1.388588e+09</td>\n",
       "    </tr>\n",
       "    <tr>\n",
       "      <th>3837787</th>\n",
       "      <td>01/01/2014</td>\n",
       "      <td>22:30:00</td>\n",
       "      <td>DANGEROUS DRUGS</td>\n",
       "      <td>MARIJUANA, SALE 4 &amp; 5</td>\n",
       "      <td>MISDEMEANOR</td>\n",
       "      <td>40.697293</td>\n",
       "      <td>-73.794449</td>\n",
       "      <td>1.388610e+09</td>\n",
       "      <td>1.388614e+09</td>\n",
       "    </tr>\n",
       "    <tr>\n",
       "      <th>...</th>\n",
       "      <td>...</td>\n",
       "      <td>...</td>\n",
       "      <td>...</td>\n",
       "      <td>...</td>\n",
       "      <td>...</td>\n",
       "      <td>...</td>\n",
       "      <td>...</td>\n",
       "      <td>...</td>\n",
       "      <td>...</td>\n",
       "    </tr>\n",
       "    <tr>\n",
       "      <th>1856679</th>\n",
       "      <td>12/31/2018</td>\n",
       "      <td>00:17:00</td>\n",
       "      <td>OFF. AGNST PUB ORD SENSBLTY &amp;</td>\n",
       "      <td>AGGRAVATED HARASSMENT 2</td>\n",
       "      <td>MISDEMEANOR</td>\n",
       "      <td>40.625075</td>\n",
       "      <td>-74.022974</td>\n",
       "      <td>1.546211e+09</td>\n",
       "      <td>1.546214e+09</td>\n",
       "    </tr>\n",
       "    <tr>\n",
       "      <th>6354799</th>\n",
       "      <td>12/31/2018</td>\n",
       "      <td>13:00:00</td>\n",
       "      <td>HARRASSMENT 2</td>\n",
       "      <td>HARASSMENT,SUBD 3,4,5</td>\n",
       "      <td>VIOLATION</td>\n",
       "      <td>40.855261</td>\n",
       "      <td>-73.896226</td>\n",
       "      <td>1.546258e+09</td>\n",
       "      <td>1.546261e+09</td>\n",
       "    </tr>\n",
       "    <tr>\n",
       "      <th>1856666</th>\n",
       "      <td>12/31/2018</td>\n",
       "      <td>21:30:00</td>\n",
       "      <td>HARRASSMENT 2</td>\n",
       "      <td>HARASSMENT,SUBD 3,4,5</td>\n",
       "      <td>VIOLATION</td>\n",
       "      <td>40.671691</td>\n",
       "      <td>-73.918328</td>\n",
       "      <td>1.546286e+09</td>\n",
       "      <td>1.546290e+09</td>\n",
       "    </tr>\n",
       "    <tr>\n",
       "      <th>1856828</th>\n",
       "      <td>12/31/2018</td>\n",
       "      <td>15:00:00</td>\n",
       "      <td>CRIMINAL MISCHIEF &amp; RELATED OF</td>\n",
       "      <td>MISCHIEF, CRIMINAL 4, OF MOTOR</td>\n",
       "      <td>MISDEMEANOR</td>\n",
       "      <td>40.572388</td>\n",
       "      <td>-73.992626</td>\n",
       "      <td>1.546265e+09</td>\n",
       "      <td>1.546268e+09</td>\n",
       "    </tr>\n",
       "    <tr>\n",
       "      <th>6071502</th>\n",
       "      <td>12/31/2018</td>\n",
       "      <td>21:10:00</td>\n",
       "      <td>CRIMINAL MISCHIEF &amp; RELATED OF</td>\n",
       "      <td>CRIMINAL MISCHIEF,UNCLASSIFIED 4</td>\n",
       "      <td>MISDEMEANOR</td>\n",
       "      <td>40.644813</td>\n",
       "      <td>-73.896701</td>\n",
       "      <td>1.546286e+09</td>\n",
       "      <td>1.546290e+09</td>\n",
       "    </tr>\n",
       "  </tbody>\n",
       "</table>\n",
       "<p>2376109 rows × 9 columns</p>\n",
       "</div>"
      ],
      "text/plain": [
       "               Date      Time                     Global_desc  \\\n",
       "3231995  01/01/2014  11:15:00                  FELONY ASSAULT   \n",
       "4307751  01/01/2014  02:05:00  OFFENSES AGAINST PUBLIC ADMINI   \n",
       "3837590  01/01/2014  00:01:00                          FRAUDS   \n",
       "4069689  01/01/2014  15:00:00                   PETIT LARCENY   \n",
       "3837787  01/01/2014  22:30:00                 DANGEROUS DRUGS   \n",
       "...             ...       ...                             ...   \n",
       "1856679  12/31/2018  00:17:00   OFF. AGNST PUB ORD SENSBLTY &   \n",
       "6354799  12/31/2018  13:00:00                   HARRASSMENT 2   \n",
       "1856666  12/31/2018  21:30:00                   HARRASSMENT 2   \n",
       "1856828  12/31/2018  15:00:00  CRIMINAL MISCHIEF & RELATED OF   \n",
       "6071502  12/31/2018  21:10:00  CRIMINAL MISCHIEF & RELATED OF   \n",
       "\n",
       "                            Specific_desc Type_of_felony   Latitude  \\\n",
       "3231995          ASSAULT 2,1,UNCLASSIFIED         FELONY  40.663072   \n",
       "4307751                  RESISTING ARREST    MISDEMEANOR  40.797056   \n",
       "3837590    FRAUD,UNCLASSIFIED-MISDEMEANOR    MISDEMEANOR  40.649203   \n",
       "4069689    LARCENY,PETIT FROM BUILDING,UN    MISDEMEANOR  40.635898   \n",
       "3837787             MARIJUANA, SALE 4 & 5    MISDEMEANOR  40.697293   \n",
       "...                                   ...            ...        ...   \n",
       "1856679           AGGRAVATED HARASSMENT 2    MISDEMEANOR  40.625075   \n",
       "6354799             HARASSMENT,SUBD 3,4,5      VIOLATION  40.855261   \n",
       "1856666             HARASSMENT,SUBD 3,4,5      VIOLATION  40.671691   \n",
       "1856828    MISCHIEF, CRIMINAL 4, OF MOTOR    MISDEMEANOR  40.572388   \n",
       "6071502  CRIMINAL MISCHIEF,UNCLASSIFIED 4    MISDEMEANOR  40.644813   \n",
       "\n",
       "         Longitude         start           end  \n",
       "3231995 -73.925782  1.388570e+09  1.388574e+09  \n",
       "4307751 -73.964477  1.388538e+09  1.388542e+09  \n",
       "3837590 -73.923304  1.388531e+09  1.388534e+09  \n",
       "4069689 -73.740132  1.388585e+09  1.388588e+09  \n",
       "3837787 -73.794449  1.388610e+09  1.388614e+09  \n",
       "...            ...           ...           ...  \n",
       "1856679 -74.022974  1.546211e+09  1.546214e+09  \n",
       "6354799 -73.896226  1.546258e+09  1.546261e+09  \n",
       "1856666 -73.918328  1.546286e+09  1.546290e+09  \n",
       "1856828 -73.992626  1.546265e+09  1.546268e+09  \n",
       "6071502 -73.896701  1.546286e+09  1.546290e+09  \n",
       "\n",
       "[2376109 rows x 9 columns]"
      ]
     },
     "execution_count": 13,
     "metadata": {},
     "output_type": "execute_result"
    }
   ],
   "source": [
    "df"
   ]
  },
  {
   "cell_type": "markdown",
   "id": "00b45cf3",
   "metadata": {},
   "source": [
    "### Exporting the dataset:"
   ]
  },
  {
   "cell_type": "code",
   "execution_count": 14,
   "id": "3578e17d",
   "metadata": {},
   "outputs": [],
   "source": [
    "# df.to_csv('C:/Users/Hisham/Desktop/p3/data_wrangling/project/assignments_repository/Data-Wrangling/dataset.csv')"
   ]
  }
 ],
 "metadata": {
  "kernelspec": {
   "display_name": "Python 3 (ipykernel)",
   "language": "python",
   "name": "python3"
  },
  "language_info": {
   "codemirror_mode": {
    "name": "ipython",
    "version": 3
   },
   "file_extension": ".py",
   "mimetype": "text/x-python",
   "name": "python",
   "nbconvert_exporter": "python",
   "pygments_lexer": "ipython3",
   "version": "3.8.3"
  }
 },
 "nbformat": 4,
 "nbformat_minor": 5
}
