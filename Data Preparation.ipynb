{
 "cells": [
  {
   "cell_type": "markdown",
   "id": "d93139a8",
   "metadata": {},
   "source": [
    "# Reading and cleaning the data"
   ]
  },
  {
   "cell_type": "code",
   "execution_count": 1,
   "id": "abae285f",
   "metadata": {},
   "outputs": [],
   "source": [
    "import pandas as pd\n",
    "import numpy as np\n",
    "from datetime import datetime"
   ]
  },
  {
   "cell_type": "markdown",
   "id": "524dfaa5",
   "metadata": {},
   "source": [
    "### Importing the crime dataset:"
   ]
  },
  {
   "cell_type": "code",
   "execution_count": 2,
   "id": "f4e79145",
   "metadata": {},
   "outputs": [
    {
     "name": "stderr",
     "output_type": "stream",
     "text": [
      "C:\\Users\\Hisham\\anaconda3\\lib\\site-packages\\IPython\\core\\interactiveshell.py:3441: DtypeWarning: Columns (18,20) have mixed types.Specify dtype option on import or set low_memory=False.\n",
      "  exec(code_obj, self.user_global_ns, self.user_ns)\n"
     ]
    }
   ],
   "source": [
    "df = pd.read_csv('NYPD_Complaint_Data_Historic.csv/NYPD_Complaint_Data_Historic.csv')"
   ]
  },
  {
   "cell_type": "markdown",
   "id": "17f58622",
   "metadata": {},
   "source": [
    "### Exploring the dataset:"
   ]
  },
  {
   "cell_type": "code",
   "execution_count": 3,
   "id": "f014e0db",
   "metadata": {},
   "outputs": [
    {
     "data": {
      "text/plain": [
       "Index(['CMPLNT_NUM', 'CMPLNT_FR_DT', 'CMPLNT_FR_TM', 'CMPLNT_TO_DT',\n",
       "       'CMPLNT_TO_TM', 'ADDR_PCT_CD', 'RPT_DT', 'KY_CD', 'OFNS_DESC', 'PD_CD',\n",
       "       'PD_DESC', 'CRM_ATPT_CPTD_CD', 'LAW_CAT_CD', 'BORO_NM',\n",
       "       'LOC_OF_OCCUR_DESC', 'PREM_TYP_DESC', 'JURIS_DESC', 'JURISDICTION_CODE',\n",
       "       'PARKS_NM', 'HADEVELOPT', 'HOUSING_PSA', 'X_COORD_CD', 'Y_COORD_CD',\n",
       "       'SUSP_AGE_GROUP', 'SUSP_RACE', 'SUSP_SEX', 'TRANSIT_DISTRICT',\n",
       "       'Latitude', 'Longitude', 'Lat_Lon', 'PATROL_BORO', 'STATION_NAME',\n",
       "       'VIC_AGE_GROUP', 'VIC_RACE', 'VIC_SEX'],\n",
       "      dtype='object')"
      ]
     },
     "execution_count": 3,
     "metadata": {},
     "output_type": "execute_result"
    }
   ],
   "source": [
    "df.columns"
   ]
  },
  {
   "cell_type": "markdown",
   "id": "8dbd0540",
   "metadata": {},
   "source": [
    "#### Getting needed columns:"
   ]
  },
  {
   "cell_type": "code",
   "execution_count": 4,
   "id": "6a2879ff",
   "metadata": {},
   "outputs": [],
   "source": [
    "df = df[['CMPLNT_FR_DT','CMPLNT_FR_TM','OFNS_DESC','PD_DESC','LAW_CAT_CD','Latitude','Longitude']]"
   ]
  },
  {
   "cell_type": "code",
   "execution_count": 5,
   "id": "0ebbf7ee",
   "metadata": {},
   "outputs": [],
   "source": [
    "# Rename accordingly\n",
    "df = df.rename(columns={'CMPLNT_FR_DT':'Date', 'CMPLNT_FR_TM':'Time', 'OFNS_DESC':'Global_desc',\n",
    "                        'PD_DESC':'Specific_desc', 'LAW_CAT_CD':'Type_of_felony'})"
   ]
  },
  {
   "cell_type": "markdown",
   "id": "6054967b",
   "metadata": {},
   "source": [
    "### Handeling missing values:"
   ]
  },
  {
   "cell_type": "code",
   "execution_count": 6,
   "id": "88898791",
   "metadata": {
    "scrolled": true
   },
   "outputs": [
    {
     "data": {
      "text/plain": [
       "Date                655\n",
       "Time                 48\n",
       "Global_desc       18813\n",
       "Specific_desc      5546\n",
       "Type_of_felony        0\n",
       "Latitude          24064\n",
       "Longitude         24064\n",
       "dtype: int64"
      ]
     },
     "execution_count": 6,
     "metadata": {},
     "output_type": "execute_result"
    }
   ],
   "source": [
    "df.isnull().sum()"
   ]
  },
  {
   "cell_type": "code",
   "execution_count": 7,
   "id": "ed0b5b32",
   "metadata": {},
   "outputs": [],
   "source": [
    "df = df.dropna()"
   ]
  },
  {
   "cell_type": "markdown",
   "id": "4469bd64",
   "metadata": {},
   "source": [
    "### Selecting a subset of the data:"
   ]
  },
  {
   "cell_type": "code",
   "execution_count": 8,
   "id": "aad3677a",
   "metadata": {},
   "outputs": [],
   "source": [
    "# we had 6.5 + mil instances. We take the last 5 years into account\n",
    "df = df[df.Date.apply(lambda x: int(x.split('/')[-1])) >= 2014]"
   ]
  },
  {
   "cell_type": "code",
   "execution_count": 9,
   "id": "91eefcd2",
   "metadata": {},
   "outputs": [],
   "source": [
    "df = df.sort_values(by = 'Date')"
   ]
  },
  {
   "cell_type": "markdown",
   "id": "ece2c7c7",
   "metadata": {},
   "source": [
    "### Converting date and time to timestamps:"
   ]
  },
  {
   "cell_type": "code",
   "execution_count": 10,
   "id": "13cd899c",
   "metadata": {},
   "outputs": [],
   "source": [
    "df['ts'] = pd.to_datetime(df['Date'] + df['Time'], format='%m/%d/%Y%H:%M:%S', errors = 'coerce')"
   ]
  },
  {
   "cell_type": "code",
   "execution_count": 11,
   "id": "187db552",
   "metadata": {},
   "outputs": [],
   "source": [
    "df['ts'] = df.start.apply(lambda x: datetime(x.year, x.month, x.day, x.hour).timestamp())"
   ]
  },
  {
   "cell_type": "markdown",
   "id": "00b45cf3",
   "metadata": {},
   "source": [
    "### Exporting the dataset:"
   ]
  },
  {
   "cell_type": "code",
   "execution_count": 14,
   "id": "3578e17d",
   "metadata": {},
   "outputs": [],
   "source": [
    "df.to_csv('dataset.csv')"
   ]
  }
 ],
 "metadata": {
  "kernelspec": {
   "display_name": "Python 3",
   "language": "python",
   "name": "python3"
  },
  "language_info": {
   "codemirror_mode": {
    "name": "ipython",
    "version": 3
   },
   "file_extension": ".py",
   "mimetype": "text/x-python",
   "name": "python",
   "nbconvert_exporter": "python",
   "pygments_lexer": "ipython3",
   "version": "3.8.8"
  }
 },
 "nbformat": 4,
 "nbformat_minor": 5
}
