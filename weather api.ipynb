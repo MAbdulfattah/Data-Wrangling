{
 "cells": [
  {
   "cell_type": "code",
   "execution_count": 1,
   "id": "proved-hearts",
   "metadata": {},
   "outputs": [],
   "source": [
    "import pandas as pd\n",
    "import numpy as np\n",
    "import requests\n"
   ]
  },
  {
   "cell_type": "code",
   "execution_count": 105,
   "id": "conscious-lafayette",
   "metadata": {},
   "outputs": [],
   "source": [
    "# date should be: YYYY-MM-DD:H\n",
    "m_api_key = \"619bda908e314a31b795d019560c76e2\"\n",
    "h_api_key = \"4fd27e75962f4880a0cd131308f46924\"\n",
    "\n",
    "base_url = 'https://api.weatherbit.io/v2.0/history/hourly?&key={}'.format(m_api_key)\n",
    "def get_weather(date1, date2):\n",
    "  q = '&city=NY&start_date={}&end_date={}'.format(date1, date2)\n",
    "  print(base_url + q)\n",
    "  weather_request = requests.get(base_url + q)#.json()\n",
    "  if weather_request.get('error'):\n",
    "    # an error might occur for any reason!\n",
    "    return weather_request    \n",
    "  return [{'ts': t.get('ts'), \n",
    "           'temp': t.get('temp'),\n",
    "           'snow': t.get('snow'),\n",
    "           'desc': t.get('weather').get('description')} for t in weather_request.get('data')]\n"
   ]
  },
  {
   "cell_type": "code",
   "execution_count": 107,
   "id": "large-hundred",
   "metadata": {
    "scrolled": true
   },
   "outputs": [
    {
     "name": "stdout",
     "output_type": "stream",
     "text": [
      "https://api.weatherbit.io/v2.0/history/hourly?&key=619bda908e314a31b795d019560c76e2&city=NY&start_date=2018-12-31:22&end_date=2018-12-31:23\n"
     ]
    },
    {
     "ename": "NameError",
     "evalue": "name 'weather_request' is not defined",
     "output_type": "error",
     "traceback": [
      "\u001b[1;31m---------------------------------------------------------------------------\u001b[0m",
      "\u001b[1;31mNameError\u001b[0m                                 Traceback (most recent call last)",
      "\u001b[1;32m<ipython-input-107-fe84be416e4a>\u001b[0m in \u001b[0;36m<module>\u001b[1;34m\u001b[0m\n\u001b[0;32m      1\u001b[0m \u001b[1;31m# Test api.\u001b[0m\u001b[1;33m\u001b[0m\u001b[1;33m\u001b[0m\u001b[1;33m\u001b[0m\u001b[0m\n\u001b[1;32m----> 2\u001b[1;33m \u001b[0mforcasts\u001b[0m \u001b[1;33m=\u001b[0m \u001b[0mget_weather\u001b[0m\u001b[1;33m(\u001b[0m\u001b[1;34m\"2018-12-31:22\"\u001b[0m\u001b[1;33m,\u001b[0m \u001b[1;34m\"2018-12-31:23\"\u001b[0m\u001b[1;33m)\u001b[0m\u001b[1;33m\u001b[0m\u001b[1;33m\u001b[0m\u001b[0m\n\u001b[0m\u001b[0;32m      3\u001b[0m \u001b[1;31m# forcasts = get_weather(\"2013-1-1:23\", \"2018-12-31:23\")\u001b[0m\u001b[1;33m\u001b[0m\u001b[1;33m\u001b[0m\u001b[1;33m\u001b[0m\u001b[0m\n\u001b[0;32m      4\u001b[0m \u001b[0mprint\u001b[0m\u001b[1;33m(\u001b[0m\u001b[0mforcasts\u001b[0m\u001b[1;33m)\u001b[0m\u001b[1;33m\u001b[0m\u001b[1;33m\u001b[0m\u001b[0m\n\u001b[0;32m      5\u001b[0m \u001b[0mdf\u001b[0m \u001b[1;33m=\u001b[0m \u001b[0mpd\u001b[0m\u001b[1;33m.\u001b[0m\u001b[0mDataFrame\u001b[0m\u001b[1;33m(\u001b[0m\u001b[0mforcasts\u001b[0m\u001b[1;33m)\u001b[0m\u001b[1;33m\u001b[0m\u001b[1;33m\u001b[0m\u001b[0m\n",
      "\u001b[1;32m<ipython-input-105-42a96bfcd09c>\u001b[0m in \u001b[0;36mget_weather\u001b[1;34m(date1, date2)\u001b[0m\n\u001b[0;32m     16\u001b[0m            \u001b[1;34m'temp'\u001b[0m\u001b[1;33m:\u001b[0m \u001b[0mt\u001b[0m\u001b[1;33m.\u001b[0m\u001b[0mget\u001b[0m\u001b[1;33m(\u001b[0m\u001b[1;34m'temp'\u001b[0m\u001b[1;33m)\u001b[0m\u001b[1;33m,\u001b[0m\u001b[1;33m\u001b[0m\u001b[1;33m\u001b[0m\u001b[0m\n\u001b[0;32m     17\u001b[0m            \u001b[1;34m'snow'\u001b[0m\u001b[1;33m:\u001b[0m \u001b[0mt\u001b[0m\u001b[1;33m.\u001b[0m\u001b[0mget\u001b[0m\u001b[1;33m(\u001b[0m\u001b[1;34m'snow'\u001b[0m\u001b[1;33m)\u001b[0m\u001b[1;33m,\u001b[0m\u001b[1;33m\u001b[0m\u001b[1;33m\u001b[0m\u001b[0m\n\u001b[1;32m---> 18\u001b[1;33m            'desc': t.get('weather').get('description')} for t in weather_request.get('data')]\n\u001b[0m",
      "\u001b[1;31mNameError\u001b[0m: name 'weather_request' is not defined"
     ]
    }
   ],
   "source": [
    "# Test api.\n",
    "forcasts = get_weather(\"2018-12-31:22\", \"2018-12-31:23\")\n",
    "# forcasts = get_weather(\"2013-1-1:23\", \"2018-12-31:23\")\n",
    "print(forcasts)\n",
    "df = pd.DataFrame(forcasts)"
   ]
  },
  {
   "cell_type": "code",
   "execution_count": 68,
   "id": "relative-ribbon",
   "metadata": {},
   "outputs": [],
   "source": [
    "df.to_csv('5y_weather_forcasts')"
   ]
  }
 ],
 "metadata": {
  "kernelspec": {
   "display_name": "Python 3",
   "language": "python",
   "name": "python3"
  },
  "language_info": {
   "codemirror_mode": {
    "name": "ipython",
    "version": 3
   },
   "file_extension": ".py",
   "mimetype": "text/x-python",
   "name": "python",
   "nbconvert_exporter": "python",
   "pygments_lexer": "ipython3",
   "version": "3.8.8"
  }
 },
 "nbformat": 4,
 "nbformat_minor": 5
}
