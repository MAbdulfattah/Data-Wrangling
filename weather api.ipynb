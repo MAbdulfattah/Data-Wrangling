{
 "cells": [
  {
   "cell_type": "code",
   "execution_count": 1,
   "id": "proved-hearts",
   "metadata": {},
   "outputs": [],
   "source": [
    "import pandas as pd\n",
    "import numpy as np\n",
    "import requests\n"
   ]
  },
  {
   "cell_type": "code",
   "execution_count": 4,
   "id": "conscious-lafayette",
   "metadata": {},
   "outputs": [],
   "source": [
    "# date should be: YYYY-MM-DD:H\n",
    "m_api_key = \"619bda908e314a31b795d019560c76e2\"\n",
    "h_api_key = \"4fd27e75962f4880a0cd131308f46924\"\n",
    "\n",
    "base_url = 'https://api.weatherbit.io/v2.0/history/hourly?&key={}'.format(m_api_key)\n",
    "def get_weather(date1, date2):\n",
    "  q = '&city=NY&start_date={}&end_date={}'.format(date1, date2)\n",
    "  print(base_url + q)\n",
    "  weather_request = requests.get(base_url + q).json()\n",
    "  if weather_request.get('error'):\n",
    "    # an error might occur for any reason!\n",
    "    return weather_request    \n",
    "  return [{'ts': t.get('ts'), \n",
    "           'temp': t.get('temp'),\n",
    "           'snow': t.get('snow'),\n",
    "           'desc': t.get('weather').get('description')} for t in weather_request.get('data')]\n"
   ]
  },
  {
   "cell_type": "code",
   "execution_count": 9,
   "id": "large-hundred",
   "metadata": {
    "scrolled": true
   },
   "outputs": [
    {
     "name": "stdout",
     "output_type": "stream",
     "text": [
      "https://api.weatherbit.io/v2.0/history/hourly?&key=619bda908e314a31b795d019560c76e2&city=NY&start_date=2013-12-31:24&end_date=2014-12-31:24\n",
      "https://api.weatherbit.io/v2.0/history/hourly?&key=619bda908e314a31b795d019560c76e2&city=NY&start_date=2014-12-31:24&end_date=2015-12-31:24\n",
      "https://api.weatherbit.io/v2.0/history/hourly?&key=619bda908e314a31b795d019560c76e2&city=NY&start_date=2015-12-31:24&end_date=2016-12-31:24\n",
      "https://api.weatherbit.io/v2.0/history/hourly?&key=619bda908e314a31b795d019560c76e2&city=NY&start_date=2016-12-31:24&end_date=2017-12-31:24\n",
      "https://api.weatherbit.io/v2.0/history/hourly?&key=619bda908e314a31b795d019560c76e2&city=NY&start_date=2017-12-31:24&end_date=2018-12-31:24\n"
     ]
    }
   ],
   "source": [
    "# Test api.\n",
    "# forcasts = get_weather(\"2018-12-31:23\", \"2018-12-31:24\")\n",
    "forcasts1 = get_weather(\"2013-12-31:24\", \"2014-12-31:24\")\n",
    "forcasts2 = get_weather(\"2014-12-31:24\", \"2015-12-31:24\")\n",
    "forcasts3 = get_weather(\"2015-12-31:24\", \"2016-12-31:24\")\n",
    "forcasts4 = get_weather(\"2016-12-31:24\", \"2017-12-31:24\")\n",
    "forcasts5 = get_weather(\"2017-12-31:24\", \"2018-12-31:24\")\n",
    "forcasts = forcasts1 + forcasts2 + forcasts3 + forcasts4 + forcasts5\n",
    "df = pd.DataFrame(forcasts)"
   ]
  },
  {
   "cell_type": "code",
   "execution_count": 11,
   "id": "relative-ribbon",
   "metadata": {},
   "outputs": [],
   "source": [
    "df.to_csv('5y_weather_forcasts')"
   ]
  },
  {
   "cell_type": "code",
   "execution_count": null,
   "id": "provincial-bernard",
   "metadata": {},
   "outputs": [],
   "source": []
  }
 ],
 "metadata": {
  "kernelspec": {
   "display_name": "Python 3",
   "language": "python",
   "name": "python3"
  },
  "language_info": {
   "codemirror_mode": {
    "name": "ipython",
    "version": 3
   },
   "file_extension": ".py",
   "mimetype": "text/x-python",
   "name": "python",
   "nbconvert_exporter": "python",
   "pygments_lexer": "ipython3",
   "version": "3.8.5"
  }
 },
 "nbformat": 4,
 "nbformat_minor": 5
}
