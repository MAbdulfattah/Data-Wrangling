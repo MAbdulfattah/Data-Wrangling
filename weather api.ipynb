{
 "cells": [
  {
   "cell_type": "code",
   "execution_count": 1,
   "id": "proved-hearts",
   "metadata": {},
   "outputs": [],
   "source": [
    "import pandas as pd\n",
    "import numpy as np\n",
    "import requests\n"
   ]
  },
  {
   "cell_type": "markdown",
   "id": "authorized-stanley",
   "metadata": {},
   "source": [
    "# Get weather"
   ]
  },
  {
   "cell_type": "markdown",
   "id": "characteristic-calendar",
   "metadata": {},
   "source": [
    "The `get_weather` function returns a dictionary that contain the timestamp, temp, snow and weather description for the given dates. Because the hourly weatherbit.io API requires this `YYYY-MM-DD:H` format, the given dates should be in that format."
   ]
  },
  {
   "cell_type": "code",
   "execution_count": 4,
   "id": "conscious-lafayette",
   "metadata": {},
   "outputs": [],
   "source": [
    "# date should be: YYYY-MM-DD:H\n",
    "api_key = \"619bda908e314a31b795d019560c76e2\"\n",
    "base_url = 'https://api.weatherbit.io/v2.0/history/hourly?&key={}'.format(api_key)\n",
    "def get_weather(date1, date2):\n",
    "  q = '&city=NY&start_date={}&end_date={}'.format(date1, date2)\n",
    "  print(base_url + q)\n",
    "  weather_request = requests.get(base_url + q).json()\n",
    "  if weather_request.get('error'):\n",
    "    # an error might occur for any reason!\n",
    "    return weather_request    \n",
    "  return {'ts': t.get('ts'), \n",
    "           'temp': t.get('temp'),\n",
    "           'snow': t.get('snow'),\n",
    "           'desc': t.get('weather').get('description')} for t in weather_request.get('data')\n"
   ]
  },
  {
   "cell_type": "code",
   "execution_count": null,
   "id": "ancient-share",
   "metadata": {},
   "outputs": [],
   "source": [
    "# The following gives us the hourly temperatures from 2014 to 2018. We had to do this because the API doesn't allow us\n",
    "# to query more than one year at the time.\n",
    "forcasts1 = get_weather(\"2013-12-31:24\", \"2014-12-31:24\")\n",
    "forcasts2 = get_weather(\"2014-12-31:24\", \"2015-12-31:24\")\n",
    "forcasts3 = get_weather(\"2015-12-31:24\", \"2016-12-31:24\")\n",
    "forcasts4 = get_weather(\"2016-12-31:24\", \"2017-12-31:24\")\n",
    "forcasts5 = get_weather(\"2017-12-31:24\", \"2018-12-31:24\")\n",
    "\n",
    "forcasts = [forcasts1, forcasts2, forcasts3, forcasts4, forcasts5]\n",
    "df = pd.DataFrame(forcasts)"
   ]
  },
  {
   "cell_type": "markdown",
   "id": "prescription-study",
   "metadata": {},
   "source": [
    "# Save to a dataset."
   ]
  },
  {
   "cell_type": "code",
   "execution_count": 11,
   "id": "relative-ribbon",
   "metadata": {},
   "outputs": [],
   "source": [
    "df.to_csv('5y_weather_forcasts.csv')"
   ]
  }
 ],
 "metadata": {
  "kernelspec": {
   "display_name": "Python 3",
   "language": "python",
   "name": "python3"
  },
  "language_info": {
   "codemirror_mode": {
    "name": "ipython",
    "version": 3
   },
   "file_extension": ".py",
   "mimetype": "text/x-python",
   "name": "python",
   "nbconvert_exporter": "python",
   "pygments_lexer": "ipython3",
   "version": "3.8.8"
  }
 },
 "nbformat": 4,
 "nbformat_minor": 5
}
