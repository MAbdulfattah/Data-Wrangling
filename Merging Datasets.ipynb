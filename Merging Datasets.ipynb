{
 "cells": [
  {
   "cell_type": "code",
   "execution_count": 1,
   "id": "7d18e7e6",
   "metadata": {},
   "outputs": [],
   "source": [
    "import pandas as pd\n",
    "from datetime import datetime"
   ]
  },
  {
   "cell_type": "code",
   "execution_count": 2,
   "id": "d175b6c3",
   "metadata": {},
   "outputs": [],
   "source": [
    "df1 = pd.read_csv('dataset.csv')\n",
    "df2 = pd.read_csv('5y_weather_forcasts.csv')"
   ]
  },
  {
   "cell_type": "code",
   "execution_count": 3,
   "id": "2b854442",
   "metadata": {},
   "outputs": [],
   "source": [
    "# removing the indices.\n",
    "df1 = df1.drop(['Unnamed: 0'], axis=1)\n",
    "df2 = df2.drop(['Unnamed: 0'], axis=1)"
   ]
  },
  {
   "cell_type": "code",
   "execution_count": 4,
   "id": "579eae3a",
   "metadata": {},
   "outputs": [],
   "source": [
    "merged_df = pd.merge(df1, df2, on='ts')"
   ]
  },
  {
   "cell_type": "markdown",
   "id": "46e8e702",
   "metadata": {},
   "source": [
    "# Save to a finally dataset"
   ]
  },
  {
   "cell_type": "code",
   "execution_count": 5,
   "id": "42d83e48",
   "metadata": {},
   "outputs": [],
   "source": [
    "merged_df.to_csv('full_dataset.csv')"
   ]
  }
 ],
 "metadata": {
  "kernelspec": {
   "display_name": "Python 3 (ipykernel)",
   "language": "python",
   "name": "python3"
  },
  "language_info": {
   "codemirror_mode": {
    "name": "ipython",
    "version": 3
   },
   "file_extension": ".py",
   "mimetype": "text/x-python",
   "name": "python",
   "nbconvert_exporter": "python",
   "pygments_lexer": "ipython3",
   "version": "3.8.3"
  }
 },
 "nbformat": 4,
 "nbformat_minor": 5
}
