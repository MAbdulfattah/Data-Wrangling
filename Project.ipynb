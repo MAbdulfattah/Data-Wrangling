{
 "cells": [
  {
   "cell_type": "markdown",
   "id": "1140245f",
   "metadata": {},
   "source": [
    "# Data Wrangeling Project"
   ]
  },
  {
   "cell_type": "code",
   "execution_count": 2,
   "id": "a2a56418",
   "metadata": {},
   "outputs": [],
   "source": [
    "import pandas as pd\n",
    "import numpy as np"
   ]
  },
  {
   "cell_type": "markdown",
   "id": "028297bd",
   "metadata": {},
   "source": [
    "### Importing the crime dataset:"
   ]
  },
  {
   "cell_type": "code",
   "execution_count": null,
   "id": "c5ee5e21",
   "metadata": {},
   "outputs": [],
   "source": []
  },
  {
   "cell_type": "markdown",
   "id": "c89fcaae",
   "metadata": {},
   "source": [
    "### Exploring the dataset:"
   ]
  },
  {
   "cell_type": "code",
   "execution_count": null,
   "id": "64e1ee44",
   "metadata": {},
   "outputs": [],
   "source": []
  },
  {
   "cell_type": "markdown",
   "id": "9cbab823",
   "metadata": {},
   "source": [
    "### Removing uneeded columns:"
   ]
  },
  {
   "cell_type": "code",
   "execution_count": null,
   "id": "31ced7be",
   "metadata": {},
   "outputs": [],
   "source": []
  },
  {
   "cell_type": "markdown",
   "id": "2f8b4651",
   "metadata": {},
   "source": [
    "### Cleaning the data:"
   ]
  },
  {
   "cell_type": "code",
   "execution_count": null,
   "id": "37580709",
   "metadata": {},
   "outputs": [],
   "source": []
  },
  {
   "cell_type": "markdown",
   "id": "a114da37",
   "metadata": {},
   "source": [
    "### Fetching the weather data:"
   ]
  },
  {
   "cell_type": "code",
   "execution_count": null,
   "id": "3545ed53",
   "metadata": {},
   "outputs": [],
   "source": []
  },
  {
   "cell_type": "markdown",
   "id": "e03951b5",
   "metadata": {},
   "source": [
    "### Combining the two datasets:"
   ]
  },
  {
   "cell_type": "code",
   "execution_count": null,
   "id": "22c0b598",
   "metadata": {},
   "outputs": [],
   "source": []
  },
  {
   "cell_type": "markdown",
   "id": "25e59b2c",
   "metadata": {},
   "source": [
    "## Doing the magic:"
   ]
  },
  {
   "cell_type": "code",
   "execution_count": null,
   "id": "ec525440",
   "metadata": {},
   "outputs": [],
   "source": []
  },
  {
   "cell_type": "code",
   "execution_count": null,
   "id": "b831dfb7",
   "metadata": {},
   "outputs": [],
   "source": []
  },
  {
   "cell_type": "code",
   "execution_count": null,
   "id": "74840a8b",
   "metadata": {},
   "outputs": [],
   "source": []
  }
 ],
 "metadata": {
  "kernelspec": {
   "display_name": "Python 3 (ipykernel)",
   "language": "python",
   "name": "python3"
  },
  "language_info": {
   "codemirror_mode": {
    "name": "ipython",
    "version": 3
   },
   "file_extension": ".py",
   "mimetype": "text/x-python",
   "name": "python",
   "nbconvert_exporter": "python",
   "pygments_lexer": "ipython3",
   "version": "3.8.3"
  }
 },
 "nbformat": 4,
 "nbformat_minor": 5
}
